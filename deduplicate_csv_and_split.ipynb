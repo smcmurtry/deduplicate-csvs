{
 "cells": [
  {
   "cell_type": "code",
   "execution_count": 14,
   "id": "df602a2c",
   "metadata": {},
   "outputs": [],
   "source": [
    "import pandas as pd\n",
    "import random"
   ]
  },
  {
   "cell_type": "code",
   "execution_count": 33,
   "id": "f82706b3",
   "metadata": {},
   "outputs": [],
   "source": [
    "def get_n_letter_string(n):\n",
    "    string = \"\"\n",
    "    for _ in range(n):\n",
    "        string += random.choice(\"abcdefghijklmnopqrstuvwxyz\")\n",
    "    return string\n",
    "\n",
    "def generate_random_email(x):\n",
    "    random_three_letter_string = get_n_letter_string(3)\n",
    "    return f\"{random_three_letter_string}@gmail.com\"\n",
    "\n",
    "def generate_random_csv(n_rows):\n",
    "    index = list(range(n_rows))\n",
    "    df = pd.DataFrame(index=index)\n",
    "    df[\"email address\"] = \"\"\n",
    "    df[\"email address\"] = df[\"email address\"].map(generate_random_email)\n",
    "    df[\"name\"] = df[\"email address\"].map(lambda x: x.split(\"@\")[0])\n",
    "    return df\n",
    "    "
   ]
  },
  {
   "cell_type": "code",
   "execution_count": 40,
   "id": "94349bbe",
   "metadata": {},
   "outputs": [],
   "source": [
    "df1 = generate_random_csv(n_rows=1000000)"
   ]
  },
  {
   "cell_type": "code",
   "execution_count": 42,
   "id": "aa41581f",
   "metadata": {},
   "outputs": [],
   "source": [
    "df1.to_csv(\"data/big_random_csv.csv\", index=False)"
   ]
  },
  {
   "cell_type": "code",
   "execution_count": null,
   "id": "5055322f",
   "metadata": {},
   "outputs": [],
   "source": []
  }
 ],
 "metadata": {
  "kernelspec": {
   "display_name": "Python 3 (ipykernel)",
   "language": "python",
   "name": "python3"
  },
  "language_info": {
   "codemirror_mode": {
    "name": "ipython",
    "version": 3
   },
   "file_extension": ".py",
   "mimetype": "text/x-python",
   "name": "python",
   "nbconvert_exporter": "python",
   "pygments_lexer": "ipython3",
   "version": "3.9.16"
  }
 },
 "nbformat": 4,
 "nbformat_minor": 5
}
