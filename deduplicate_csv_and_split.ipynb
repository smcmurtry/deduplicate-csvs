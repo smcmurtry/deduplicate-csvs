{
 "cells": [
  {
   "cell_type": "code",
   "execution_count": 15,
   "id": "df602a2c",
   "metadata": {},
   "outputs": [],
   "source": [
    "import pandas as pd"
   ]
  },
  {
   "cell_type": "code",
   "execution_count": 16,
   "id": "f82706b3",
   "metadata": {},
   "outputs": [],
   "source": [
    "df = pd.read_csv(\"data/big_random_csv.csv\")"
   ]
  },
  {
   "cell_type": "code",
   "execution_count": 17,
   "id": "94349bbe",
   "metadata": {},
   "outputs": [
    {
     "data": {
      "text/html": [
       "<div>\n",
       "<style scoped>\n",
       "    .dataframe tbody tr th:only-of-type {\n",
       "        vertical-align: middle;\n",
       "    }\n",
       "\n",
       "    .dataframe tbody tr th {\n",
       "        vertical-align: top;\n",
       "    }\n",
       "\n",
       "    .dataframe thead th {\n",
       "        text-align: right;\n",
       "    }\n",
       "</style>\n",
       "<table border=\"1\" class=\"dataframe\">\n",
       "  <thead>\n",
       "    <tr style=\"text-align: right;\">\n",
       "      <th></th>\n",
       "      <th>email address</th>\n",
       "      <th>name</th>\n",
       "    </tr>\n",
       "  </thead>\n",
       "  <tbody>\n",
       "    <tr>\n",
       "      <th>0</th>\n",
       "      <td>qtdk@gmail.com</td>\n",
       "      <td>qtdk</td>\n",
       "    </tr>\n",
       "    <tr>\n",
       "      <th>1</th>\n",
       "      <td>vfwp@gmail.com</td>\n",
       "      <td>vfwp</td>\n",
       "    </tr>\n",
       "    <tr>\n",
       "      <th>2</th>\n",
       "      <td>leca@gmail.com</td>\n",
       "      <td>leca</td>\n",
       "    </tr>\n",
       "    <tr>\n",
       "      <th>3</th>\n",
       "      <td>zvhx@gmail.com</td>\n",
       "      <td>zvhx</td>\n",
       "    </tr>\n",
       "    <tr>\n",
       "      <th>4</th>\n",
       "      <td>wkxb@gmail.com</td>\n",
       "      <td>wkxb</td>\n",
       "    </tr>\n",
       "  </tbody>\n",
       "</table>\n",
       "</div>"
      ],
      "text/plain": [
       "    email address  name\n",
       "0  qtdk@gmail.com  qtdk\n",
       "1  vfwp@gmail.com  vfwp\n",
       "2  leca@gmail.com  leca\n",
       "3  zvhx@gmail.com  zvhx\n",
       "4  wkxb@gmail.com  wkxb"
      ]
     },
     "execution_count": 17,
     "metadata": {},
     "output_type": "execute_result"
    }
   ],
   "source": [
    "df.head()"
   ]
  },
  {
   "cell_type": "code",
   "execution_count": 18,
   "id": "aa41581f",
   "metadata": {},
   "outputs": [],
   "source": [
    "df_deduplicated = df.drop_duplicates()"
   ]
  },
  {
   "cell_type": "code",
   "execution_count": 19,
   "id": "5055322f",
   "metadata": {},
   "outputs": [
    {
     "name": "stdout",
     "output_type": "stream",
     "text": [
      "length of original csv: 1000000 rows\n",
      "length after deduplicating: 405692 rows\n"
     ]
    }
   ],
   "source": [
    "print(f\"length of original csv: {len(df)} rows\")\n",
    "print(f\"length after deduplicating: {len(df_deduplicated)} rows\")"
   ]
  },
  {
   "cell_type": "code",
   "execution_count": 20,
   "id": "9776ffd1",
   "metadata": {},
   "outputs": [
    {
     "data": {
      "text/html": [
       "<div>\n",
       "<style scoped>\n",
       "    .dataframe tbody tr th:only-of-type {\n",
       "        vertical-align: middle;\n",
       "    }\n",
       "\n",
       "    .dataframe tbody tr th {\n",
       "        vertical-align: top;\n",
       "    }\n",
       "\n",
       "    .dataframe thead th {\n",
       "        text-align: right;\n",
       "    }\n",
       "</style>\n",
       "<table border=\"1\" class=\"dataframe\">\n",
       "  <thead>\n",
       "    <tr style=\"text-align: right;\">\n",
       "      <th></th>\n",
       "      <th>email address</th>\n",
       "      <th>name</th>\n",
       "    </tr>\n",
       "  </thead>\n",
       "  <tbody>\n",
       "    <tr>\n",
       "      <th>0</th>\n",
       "      <td>qtdk@gmail.com</td>\n",
       "      <td>qtdk</td>\n",
       "    </tr>\n",
       "    <tr>\n",
       "      <th>1</th>\n",
       "      <td>vfwp@gmail.com</td>\n",
       "      <td>vfwp</td>\n",
       "    </tr>\n",
       "    <tr>\n",
       "      <th>2</th>\n",
       "      <td>leca@gmail.com</td>\n",
       "      <td>leca</td>\n",
       "    </tr>\n",
       "    <tr>\n",
       "      <th>3</th>\n",
       "      <td>zvhx@gmail.com</td>\n",
       "      <td>zvhx</td>\n",
       "    </tr>\n",
       "    <tr>\n",
       "      <th>4</th>\n",
       "      <td>wkxb@gmail.com</td>\n",
       "      <td>wkxb</td>\n",
       "    </tr>\n",
       "  </tbody>\n",
       "</table>\n",
       "</div>"
      ],
      "text/plain": [
       "    email address  name\n",
       "0  qtdk@gmail.com  qtdk\n",
       "1  vfwp@gmail.com  vfwp\n",
       "2  leca@gmail.com  leca\n",
       "3  zvhx@gmail.com  zvhx\n",
       "4  wkxb@gmail.com  wkxb"
      ]
     },
     "execution_count": 20,
     "metadata": {},
     "output_type": "execute_result"
    }
   ],
   "source": [
    "df_deduplicated.head()"
   ]
  },
  {
   "cell_type": "code",
   "execution_count": 21,
   "id": "a87ca7df",
   "metadata": {},
   "outputs": [],
   "source": [
    "df_deduplicated.to_csv(\"data/deduplicated_csv.csv\", index=False)"
   ]
  },
  {
   "cell_type": "code",
   "execution_count": 23,
   "id": "f4cb35ce",
   "metadata": {},
   "outputs": [],
   "source": [
    "chunked_df = pd.read_csv(\"data/deduplicated_csv.csv\", chunksize=40000)\n",
    "for n, chunk in enumerate(chunked_df):\n",
    "    chunk.to_csv(f\"data/chunked_csv_{n}.csv\", index=False)"
   ]
  },
  {
   "cell_type": "code",
   "execution_count": null,
   "id": "499cef2a",
   "metadata": {},
   "outputs": [],
   "source": []
  }
 ],
 "metadata": {
  "kernelspec": {
   "display_name": "Python 3 (ipykernel)",
   "language": "python",
   "name": "python3"
  },
  "language_info": {
   "codemirror_mode": {
    "name": "ipython",
    "version": 3
   },
   "file_extension": ".py",
   "mimetype": "text/x-python",
   "name": "python",
   "nbconvert_exporter": "python",
   "pygments_lexer": "ipython3",
   "version": "3.9.16"
  }
 },
 "nbformat": 4,
 "nbformat_minor": 5
}
